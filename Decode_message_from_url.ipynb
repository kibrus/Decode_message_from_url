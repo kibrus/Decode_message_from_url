{
  "nbformat": 4,
  "nbformat_minor": 0,
  "metadata": {
    "colab": {
      "provenance": [],
      "authorship_tag": "ABX9TyOUnQkoH8jwuT4Xe1N3DL9Z",
      "include_colab_link": true
    },
    "kernelspec": {
      "name": "python3",
      "display_name": "Python 3"
    },
    "language_info": {
      "name": "python"
    }
  },
  "cells": [
    {
      "cell_type": "markdown",
      "metadata": {
        "id": "view-in-github",
        "colab_type": "text"
      },
      "source": [
        "<a href=\"https://colab.research.google.com/github/kibrus/Decode_message_from_url/blob/main/Decode_message_from_url.ipynb\" target=\"_parent\"><img src=\"https://colab.research.google.com/assets/colab-badge.svg\" alt=\"Open In Colab\"/></a>"
      ]
    },
    {
      "cell_type": "code",
      "source": [
        "from bs4 import BeautifulSoup as bs\n",
        "import requests as req\n",
        "\n",
        "def decode_message_from_url(url):\n",
        "    # Prompt user for URL if not provided\n",
        "    if not url:\n",
        "        url = input(\"Enter the Google Doc URL: \")\n",
        "\n",
        "    # Fetch content from the URL and parse with BeautifulSoup if request is successful\n",
        "    response = req.get(url)\n",
        "    del url\n",
        "    if response.status_code == 200:\n",
        "        soup = bs(response.text, 'html.parser')\n",
        "        content = soup.get_text(separator='\\n').strip()\n",
        "        del response\n",
        "\n",
        "    # Extract the section of text starting from the keyword \"y-coordinate\"\n",
        "    is_parsing_content, relevant_content = False, \"\"\n",
        "    for line in content.splitlines():\n",
        "        if is_parsing_content:\n",
        "            relevant_content += line + \"\\n\"\n",
        "        if line.strip() == \"y-coordinate\":\n",
        "            is_parsing_content = True\n",
        "    content = relevant_content\n",
        "    del relevant_content, is_parsing_content\n",
        "\n",
        "    # Split content into groups of three lines each (representing x, character, y)\n",
        "    lines = content.split(\"\\n\")\n",
        "    character_positions = []\n",
        "    for i in range(0, len(lines), 3):\n",
        "        character_positions.append(lines[i:i + 3])\n",
        "    del content, lines\n",
        "\n",
        "    # Find the maximum x and y coordinates to determine grid dimensions\n",
        "    max_x, max_y = 0, 0\n",
        "    for position in character_positions:\n",
        "        if len(position) != 3:\n",
        "            continue\n",
        "        max_x = max(max_x, int(position[0]))\n",
        "        max_y = max(max_y, int(position[2]))\n",
        "    grid_width, grid_height = max_x + 1, max_y + 1\n",
        "    grid = [[\" \" for _ in range(grid_width)] for _ in range(grid_height)]\n",
        "    del max_x, max_y\n",
        "\n",
        "    # Fill grid with characters at their specified (x, y) positions\n",
        "    for position in character_positions:\n",
        "        if len(position) != 3:\n",
        "            continue\n",
        "        x_coord = int(position[0])\n",
        "        character = position[1]\n",
        "        y_coord = int(position[2])\n",
        "        grid[y_coord][x_coord] = character\n",
        "    del character_positions, x_coord, y_coord\n",
        "\n",
        "    # Print the final grid to display the secret message\n",
        "    for row in grid:\n",
        "        print(\"\".join(row))\n",
        "    del grid\n",
        "\n",
        "# URL for testing\n",
        "url = 'https://docs.google.com/document/d/e/2PACX-1vSHesOf9hv2sPOntssYrEdubmMQm8lwjfwv6NPjjmIRYs_FOYXtqrYgjh85jBUebK9swPXh_a5TJ5Kl/pub'\n",
        "decode_message_from_url(url)\n"
      ],
      "metadata": {
        "colab": {
          "base_uri": "https://localhost:8080/"
        },
        "id": "8Za269l-xRV5",
        "outputId": "a2b06281-edad-4a75-c57d-dbdfea45203c"
      },
      "execution_count": null,
      "outputs": [
        {
          "output_type": "stream",
          "name": "stdout",
          "text": [
            "██████████░ ██████░    ███████░     ██░     ██░     ████████░    ██░    ███░   ████████░  \n",
            "██░           ██░    ███░    ██░   ████░   ████░    ██░     ██░  ██░  ███░   ███░     ███░\n",
            "██░           ██░   ███░           ██░██░ ██░██░    ██░      ██░ ██░███░     ██░       ██░\n",
            "████████░     ██░   ██░           ███░ ██░██░ ██░   ██░      ██░ ████░       ██░       ██░\n",
            "██░           ██░   ███░          ██░  █████░ ███░  ██░      ██░ ██░███░     ██░       ██░\n",
            "██░           ██░    ███░    ██░ ███░   ███░   ██░  ██░     ██░  ██░  ███░   ███░     ███░\n",
            "██████████░ ██████░    ███████░  ██░           ███░ ████████░    ██░    ███░   ████████░  \n"
          ]
        }
      ]
    }
  ]
}